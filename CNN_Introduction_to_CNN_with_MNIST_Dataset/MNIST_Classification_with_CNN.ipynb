{
 "cells": [
  {
   "cell_type": "code",
   "execution_count": 93,
   "id": "580e220c-b134-41a0-a30b-fde45f45f788",
   "metadata": {},
   "outputs": [],
   "source": [
    "import tensorflow as tf\n",
    "from tensorflow import keras\n",
    "import matplotlib.pyplot as plt\n",
    "from sklearn.model_selection import train_test_split\n",
    "import numpy as np "
   ]
  },
  {
   "cell_type": "code",
   "execution_count": 95,
   "id": "d29cf41e-e419-4e39-9f67-72754beb3aa3",
   "metadata": {},
   "outputs": [],
   "source": [
    "# MNIST veri setinin keras kütüphanesi üzerinden yüklenmesi \n"
   ]
  },
  {
   "cell_type": "code",
   "execution_count": 97,
   "id": "76776fd1-e64b-46f5-b33a-2695a8b103b4",
   "metadata": {},
   "outputs": [],
   "source": [
    "(x_train , y_train) ,(x_test,y_test) = keras.datasets.mnist.load_data()"
   ]
  },
  {
   "cell_type": "code",
   "execution_count": 98,
   "id": "25834dfe-55e6-43c4-b40e-9bf26dff6359",
   "metadata": {},
   "outputs": [],
   "source": [
    "x_train=x_train.reshape(-1,28,28,1) \n",
    "x_test=x_test.reshape(-1,28,28,1) "
   ]
  },
  {
   "cell_type": "code",
   "execution_count": 101,
   "id": "9c078ba1-63ee-4cbb-901f-82f02fd6319c",
   "metadata": {},
   "outputs": [
    {
     "name": "stdout",
     "output_type": "stream",
     "text": [
      "Eğitim(Train) verilerinin sayısı ve boyutu = (60000, 28, 28, 1)\n",
      "Eğitim(Test) verilerinin sayısı ve boyutu = (10000, 28, 28, 1)\n"
     ]
    }
   ],
   "source": [
    "x_train=x_train.astype('float32') /255.0\n",
    "x_test=x_test.astype('float32') /255.0\n",
    "print(f\"Eğitim(Train) verilerinin sayısı ve boyutu = {x_train.shape}\")\n",
    "print(f\"Eğitim(Test) verilerinin sayısı ve boyutu = {x_test.shape}\")"
   ]
  },
  {
   "cell_type": "code",
   "execution_count": 103,
   "id": "e12ce529-c462-406c-9a52-eca1a1b6477e",
   "metadata": {},
   "outputs": [
    {
     "data": {
      "text/plain": [
       "<matplotlib.image.AxesImage at 0x1dd975abac0>"
      ]
     },
     "execution_count": 103,
     "metadata": {},
     "output_type": "execute_result"
    },
    {
     "data": {
      "image/png": "[encoded data removed]",
      "text/plain": [
       "<Figure size 640x480 with 1 Axes>"
      ]
     },
     "metadata": {},
     "output_type": "display_data"
    }
   ],
   "source": [
    "plt.imshow(x_train[50000],cmap=\"gray\")"
   ]
  },
  {
   "cell_type": "code",
   "execution_count": 105,
   "id": "ff0bf0d3-47af-4bea-b9c7-084e3e7438b1",
   "metadata": {},
   "outputs": [
    {
     "data": {
      "text/plain": [
       "3"
      ]
     },
     "execution_count": 105,
     "metadata": {},
     "output_type": "execute_result"
    }
   ],
   "source": [
    "y_train[50000]"
   ]
  },
  {
   "cell_type": "code",
   "execution_count": 107,
   "id": "077aed57-411e-41ce-b305-3554e3401c97",
   "metadata": {},
   "outputs": [],
   "source": [
    "y_train=keras.utils.to_categorical(y_train,10)\n",
    "y_test=keras.utils.to_categorical(y_test,10)"
   ]
  },
  {
   "cell_type": "code",
   "execution_count": 109,
   "id": "be2ba7a4-ea9c-4e0b-a631-3b1abed8b05a",
   "metadata": {},
   "outputs": [
    {
     "data": {
      "text/plain": [
       "array([0., 0., 0., 1., 0., 0., 0., 0., 0., 0.], dtype=float32)"
      ]
     },
     "execution_count": 109,
     "metadata": {},
     "output_type": "execute_result"
    }
   ],
   "source": [
    "y_train[50000]"
   ]
  },
  {
   "cell_type": "code",
   "execution_count": 111,
   "id": "8640b032-a757-4f74-b401-24138aea52b4",
   "metadata": {},
   "outputs": [],
   "source": [
    "X_train, X_val,y_trainsplit,y_val=train_test_split(\n",
    "    x_train,y_train,test_size=0.2,\n",
    "    random_state=42,\n",
    "    stratify=y_train\n",
    "    )"
   ]
  },
  {
   "cell_type": "code",
   "execution_count": 113,
   "id": "23e89d15-14f6-41b8-8d08-25d61dd67ad7",
   "metadata": {},
   "outputs": [],
   "source": [
    "# cnn tabanlı yapay zeka modelini oluşturuyoruz"
   ]
  },
  {
   "cell_type": "code",
   "execution_count": 136,
   "id": "f4ba517b-3e64-4418-a07d-6392a2412f3d",
   "metadata": {},
   "outputs": [],
   "source": [
    "model=keras.Sequential([\n",
    "    #cnn ilk blok\n",
    "    keras.layers.Conv2D(32,(3,3),activation='relu',input_shape=(28,28,1)),\n",
    "    keras.layers.BatchNormalization(),\n",
    "    keras.layers.Conv2D(32,(3,3),activation='relu'),\n",
    "    keras.layers.BatchNormalization(),\n",
    "    keras.layers.MaxPooling2D((2,2)),\n",
    "    keras.layers.Dropout(0.25),\n",
    "\n",
    "       #cnn ikinci blok\n",
    "    keras.layers.Conv2D(64,(3,3),activation='relu'),\n",
    "    keras.layers.BatchNormalization(),\n",
    "    keras.layers.Conv2D(64,(3,3),activation='relu'),\n",
    "    keras.layers.BatchNormalization(),\n",
    "    keras.layers.MaxPooling2D((2,2)),\n",
    "    keras.layers.Dropout(0.25),\n",
    "        #yapay zeka oluşturuldu\n",
    "    keras.layers.Flatten(),\n",
    "    keras.layers.Dense(512,activation='relu'),\n",
    "    keras.layers.BatchNormalization(),\n",
    "    keras.layers.Dropout(0.5),\n",
    "    keras.layers.Dense(10,activation='softmax') # softmax çoklu sınıflandırma problemlerinde en çok kullanılandır\n",
    "    \n",
    "])"
   ]
  },
  {
   "cell_type": "code",
   "execution_count": 138,
   "id": "53fe4de4-9382-48b4-b038-538f9b24b3e8",
   "metadata": {},
   "outputs": [],
   "source": [
    "#modeli derliyoruz"
   ]
  },
  {
   "cell_type": "code",
   "execution_count": 140,
   "id": "6d8e2d48-5d40-4f2f-8e9c-cbd5c5934c6f",
   "metadata": {},
   "outputs": [],
   "source": [
    "model.compile(\n",
    "    optimizer='adam',\n",
    "    loss='categorical_crossentropy',\n",
    "    metrics=['accuracy']\n",
    ")"
   ]
  },
  {
   "cell_type": "code",
   "execution_count": 142,
   "id": "4bb30bbe-c5d5-4632-b862-b7597022907b",
   "metadata": {},
   "outputs": [],
   "source": [
    "model_checkpoint=keras.callbacks.ModelCheckpoint(\n",
    "    'mnist_classification_cnn_model.h5',\n",
    "    monitor='val_accuracy',\n",
    "    save_best_only=True,\n",
    "    mode='max',\n",
    "    verbose=1\n",
    ")"
   ]
  },
  {
   "cell_type": "code",
   "execution_count": 144,
   "id": "0746229f-0af2-4614-b400-4bd8433083d9",
   "metadata": {},
   "outputs": [],
   "source": [
    "#modelimizi eğitiyoruz (.fit fonksiyonu ile)"
   ]
  },
  {
   "cell_type": "code",
   "execution_count": 148,
   "id": "2e81979a-baa9-4a6d-99dc-a827cca728b9",
   "metadata": {},
   "outputs": [
    {
     "name": "stdout",
     "output_type": "stream",
     "text": [
      "Epoch 1/10\n",
      "375/375 [==============================] - ETA: 0s - loss: 0.2040 - accuracy: 0.9383\n",
      "Epoch 1: val_accuracy improved from -inf to 0.11633, saving model to mnist_classification_cnn_model.h5\n",
      "375/375 [==============================] - 33s 86ms/step - loss: 0.2040 - accuracy: 0.9383 - val_loss: 8.3788 - val_accuracy: 0.1163\n",
      "Epoch 2/10\n",
      "375/375 [==============================] - ETA: 0s - loss: 0.0668 - accuracy: 0.9787\n",
      "Epoch 2: val_accuracy improved from 0.11633 to 0.98783, saving model to mnist_classification_cnn_model.h5\n",
      "375/375 [==============================] - 32s 86ms/step - loss: 0.0668 - accuracy: 0.9787 - val_loss: 0.0394 - val_accuracy: 0.9878\n",
      "Epoch 3/10\n",
      "375/375 [==============================] - ETA: 0s - loss: 0.0468 - accuracy: 0.9847\n",
      "Epoch 3: val_accuracy improved from 0.98783 to 0.98825, saving model to mnist_classification_cnn_model.h5\n",
      "375/375 [==============================] - 32s 86ms/step - loss: 0.0468 - accuracy: 0.9847 - val_loss: 0.0386 - val_accuracy: 0.9883\n",
      "Epoch 4/10\n",
      "375/375 [==============================] - ETA: 0s - loss: 0.0385 - accuracy: 0.9871\n",
      "Epoch 4: val_accuracy improved from 0.98825 to 0.99092, saving model to mnist_classification_cnn_model.h5\n",
      "375/375 [==============================] - 32s 86ms/step - loss: 0.0385 - accuracy: 0.9871 - val_loss: 0.0308 - val_accuracy: 0.9909\n",
      "Epoch 5/10\n",
      "375/375 [==============================] - ETA: 0s - loss: 0.0377 - accuracy: 0.9879\n",
      "Epoch 5: val_accuracy improved from 0.99092 to 0.99133, saving model to mnist_classification_cnn_model.h5\n",
      "375/375 [==============================] - 32s 86ms/step - loss: 0.0377 - accuracy: 0.9879 - val_loss: 0.0285 - val_accuracy: 0.9913\n",
      "Epoch 6/10\n",
      "375/375 [==============================] - ETA: 0s - loss: 0.0319 - accuracy: 0.9897\n",
      "Epoch 6: val_accuracy improved from 0.99133 to 0.99150, saving model to mnist_classification_cnn_model.h5\n",
      "375/375 [==============================] - 33s 87ms/step - loss: 0.0319 - accuracy: 0.9897 - val_loss: 0.0302 - val_accuracy: 0.9915\n",
      "Epoch 7/10\n",
      "375/375 [==============================] - ETA: 0s - loss: 0.0286 - accuracy: 0.9909\n",
      "Epoch 7: val_accuracy did not improve from 0.99150\n",
      "375/375 [==============================] - 33s 87ms/step - loss: 0.0286 - accuracy: 0.9909 - val_loss: 0.0316 - val_accuracy: 0.9908\n",
      "Epoch 8/10\n",
      "375/375 [==============================] - ETA: 0s - loss: 0.0243 - accuracy: 0.9919\n",
      "Epoch 8: val_accuracy did not improve from 0.99150\n",
      "375/375 [==============================] - 33s 87ms/step - loss: 0.0243 - accuracy: 0.9919 - val_loss: 0.0344 - val_accuracy: 0.9908\n",
      "Epoch 9/10\n",
      "375/375 [==============================] - ETA: 0s - loss: 0.0231 - accuracy: 0.9926\n",
      "Epoch 9: val_accuracy improved from 0.99150 to 0.99300, saving model to mnist_classification_cnn_model.h5\n",
      "375/375 [==============================] - 32s 86ms/step - loss: 0.0231 - accuracy: 0.9926 - val_loss: 0.0247 - val_accuracy: 0.9930\n",
      "Epoch 10/10\n",
      "375/375 [==============================] - ETA: 0s - loss: 0.0233 - accuracy: 0.9923\n",
      "Epoch 10: val_accuracy did not improve from 0.99300\n",
      "375/375 [==============================] - 33s 87ms/step - loss: 0.0233 - accuracy: 0.9923 - val_loss: 0.0271 - val_accuracy: 0.9918\n"
     ]
    }
   ],
   "source": [
    "history=model.fit(X_train,y_trainsplit,validation_data=(X_val,y_val),\n",
    "                 batch_size=128,epochs=10,callbacks=model_checkpoint)"
   ]
  },
  {
   "cell_type": "code",
   "execution_count": 165,
   "id": "f90447d9-ef46-45cd-a1df-3d8911a8f863",
   "metadata": {},
   "outputs": [
    {
     "name": "stdout",
     "output_type": "stream",
     "text": [
      "Test işlemi için değerlendirme yapılıyor\n",
      "313/313 [==============================] - 2s 8ms/step - loss: 0.0218 - accuracy: 0.9935\n",
      "modelin loss performansı=0.02175002545118332\n",
      "Modelin accuracy (Doğruluk başarısı) performansı = 0.9934999942779541\n"
     ]
    }
   ],
   "source": [
    "print(\"Test işlemi için değerlendirme yapılıyor\")\n",
    "test_loss,test_accuracy=model.evaluate(x_test,y_test)\n",
    "print(f\"modelin loss performansı={test_loss}\")\n",
    "print(f\"Modelin accuracy (Doğruluk başarısı) performansı = {test_accuracy}\")"
   ]
  },
  {
   "cell_type": "code",
   "execution_count": null,
   "id": "590a45f3-d476-4030-8df3-9610c8ca3163",
   "metadata": {},
   "outputs": [],
   "source": []
  },
  {
   "cell_type": "code",
   "execution_count": null,
   "id": "46dbcb54-65d6-42ce-9884-e434af40ada8",
   "metadata": {},
   "outputs": [],
   "source": []
  }
 ],
 "metadata": {
  "kernelspec": {
   "display_name": "env_bst",
   "language": "python",
   "name": "env_bst"
  },
  "language_info": {
   "codemirror_mode": {
    "name": "ipython",
    "version": 3
   },
   "file_extension": ".py",
   "mimetype": "text/x-python",
   "name": "python",
   "nbconvert_exporter": "python",
   "pygments_lexer": "ipython3",
   "version": "3.10.10"
  }
 },
 "nbformat": 4,
 "nbformat_minor": 5
}
